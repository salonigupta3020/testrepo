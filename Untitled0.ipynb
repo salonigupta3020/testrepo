{
  "nbformat": 4,
  "nbformat_minor": 0,
  "metadata": {
    "colab": {
      "provenance": [],
      "authorship_tag": "ABX9TyPWkW3e1vyZwtZ+EhdcSb57",
      "include_colab_link": true
    },
    "kernelspec": {
      "name": "python3",
      "display_name": "Python 3"
    },
    "language_info": {
      "name": "python"
    }
  },
  "cells": [
    {
      "cell_type": "markdown",
      "metadata": {
        "id": "view-in-github",
        "colab_type": "text"
      },
      "source": [
        "<a href=\"https://colab.research.google.com/github/salonigupta3020/testrepo/blob/main/Untitled0.ipynb\" target=\"_parent\"><img src=\"https://colab.research.google.com/assets/colab-badge.svg\" alt=\"Open In Colab\"/></a>"
      ]
    },
    {
      "cell_type": "code",
      "source": [
        "import nltk\n",
        "nltk.download('punkt')\n",
        "from nltk.tokenize import sent_tokenize\n",
        "import re\n",
        "from sklearn.feature_extraction.text import TfidfVectorizer\n",
        "from sklearn.metrics.pairwise import cosine_similarity\n",
        "import networkx as nx\n",
        "\n"
      ],
      "metadata": {
        "colab": {
          "base_uri": "https://localhost:8080/"
        },
        "id": "oNssWJB4FY_l",
        "outputId": "9280a084-e3a9-433f-cd2e-c3ef3fb45613"
      },
      "execution_count": 1,
      "outputs": [
        {
          "output_type": "stream",
          "name": "stderr",
          "text": [
            "[nltk_data] Downloading package punkt to /root/nltk_data...\n",
            "[nltk_data]   Unzipping tokenizers/punkt.zip.\n"
          ]
        }
      ]
    },
    {
      "cell_type": "code",
      "source": [
        "def clean_text(text):\n",
        "  text = re.sub(r'\\s+', '', text)\n",
        "  text = re.sub(r'\\[.*?\\]', '', text)\n",
        "  return text.strip()"
      ],
      "metadata": {
        "id": "YWjW98gtHJKD"
      },
      "execution_count": 2,
      "outputs": []
    },
    {
      "cell_type": "code",
      "source": [
        "def sentence_tokenizer(text):\n",
        "  sentences = sent_tokenize(text)\n",
        "  return sentences"
      ],
      "metadata": {
        "id": "I07xbOtiHwsN"
      },
      "execution_count": 16,
      "outputs": []
    },
    {
      "cell_type": "code",
      "source": [
        "def tfidf_vectorize(sentences):\n",
        "  vectorizer = TfidfVectorizer()\n",
        "  vectors = vectorizer.fit_transform(sentences)\n",
        "  return vectors"
      ],
      "metadata": {
        "id": "5SqbvrbcH-jI"
      },
      "execution_count": 18,
      "outputs": []
    },
    {
      "cell_type": "code",
      "source": [
        "def build_similarity_matrix(vectors):\n",
        "  similarity_matrix = cosine_similarity(vectors)\n",
        "  return similarity_matrix\n",
        ""
      ],
      "metadata": {
        "id": "HR_Ej7YIImf-"
      },
      "execution_count": 5,
      "outputs": []
    },
    {
      "cell_type": "code",
      "source": [
        "def rank_sentences(similarity_matrix, sentences):\n",
        "  nx_graph = nx.from_numpy_array(similarity_matrix)\n",
        "  scores = nx.pagerank(nx_graph)\n",
        "  ranked_sentences = sorted(((scores[i], s) for i, s in enumerate(sentences)), reverse=True)\n",
        "  return ranked_sentences"
      ],
      "metadata": {
        "id": "uvjhuJM3JQ_r"
      },
      "execution_count": 6,
      "outputs": []
    },
    {
      "cell_type": "code",
      "source": [
        "def extract_summary(ranked_sentences, num_sentences):\n",
        "  selected_sentences = [sent for score, sent in ranked_sentences[:num_sentences]]\n",
        "  return ' '.join(selected_sentences)"
      ],
      "metadata": {
        "id": "Vsn3-IjGlvYj"
      },
      "execution_count": 25,
      "outputs": []
    },
    {
      "cell_type": "code",
      "source": [
        "input_text = \"\"\"\n",
        "Yoga and meditation offer numerous physical, mental, and emotional\n",
        "benefits. Practicing yoga improves flexibility, strength, and balance,\n",
        "while also enhancing posture and promoting better circulation. It helps\n",
        "reduce chronic pain, improve cardiovascular health, and boost overall\n",
        "physical well-being. Meditation, on the other hand, is a powerful tool\n",
        "for calming the mind and reducing stress. By focusing on the present\n",
        "moment, it helps to manage anxiety, increase emotional resilience, and\n",
        "improve concentration. Together, yoga and meditation promote mental\n",
        "clarity, emotional balance, and a deeper sense of inner peace,\n",
        "contributing to a more balanced and healthy lifestyle.\n",
        "\"\"\""
      ],
      "metadata": {
        "id": "_epRb1LcmWbB"
      },
      "execution_count": 8,
      "outputs": []
    },
    {
      "cell_type": "code",
      "source": [
        "cleaned_text = clean_text(input_text)\n",
        "sentences = sentence_tokenizer(cleaned_text)"
      ],
      "metadata": {
        "id": "1e5iu1tJO_sa"
      },
      "execution_count": 20,
      "outputs": []
    },
    {
      "cell_type": "code",
      "source": [
        "vectors = tfidf_vectorize(sentences)\n",
        "similarity_matrix = build_similarity_matrix(vectors.toarray())\n",
        "ranked_sentences = rank_sentences(similarity_matrix, sentences)"
      ],
      "metadata": {
        "id": "vNmv4ZKLQzEA"
      },
      "execution_count": 21,
      "outputs": []
    },
    {
      "cell_type": "code",
      "source": [
        "summary = extract_summary(ranked_sentences, num_sentences=5)\n",
        "print(\"summary:\")\n",
        "print(summary)"
      ],
      "metadata": {
        "colab": {
          "base_uri": "https://localhost:8080/"
        },
        "id": "CzlyRTKRRi0M",
        "outputId": "eaab815e-25f2-4d1d-8e6b-0472b0b2328b"
      },
      "execution_count": 26,
      "outputs": [
        {
          "output_type": "stream",
          "name": "stdout",
          "text": [
            "summary:\n",
            "Yogaandmeditationoffernumerousphysical,mental,andemotionalbenefits.Practicingyogaimprovesflexibility,strength,andbalance,whilealsoenhancingpostureandpromotingbettercirculation.Ithelpsreducechronicpain,improvecardiovascularhealth,andboostoverallphysicalwell-being.Meditation,ontheotherhand,isapowerfultoolforcalmingthemindandreducingstress.Byfocusingonthepresentmoment,ithelpstomanageanxiety,increaseemotionalresilience,andimproveconcentration.Together,yogaandmeditationpromotementalclarity,emotionalbalance,andadeepersenseofinnerpeace,contributingtoamorebalancedandhealthylifestyle.\n"
          ]
        }
      ]
    }
  ]
}